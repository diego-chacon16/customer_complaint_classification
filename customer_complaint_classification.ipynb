{
 "cells": [
  {
   "cell_type": "markdown",
   "id": "643d0be6-60c3-45c2-8c90-98a0591fba55",
   "metadata": {},
   "source": [
    "## Customer Complaint Classification Project\n",
    "\n",
    "#### Purpose:\n",
    "\n",
    "+ A seamless and great customer experience is one of the most important pillars in a successful business today\n",
    "+ Companies spend lots of resources for consumer complaint handling and to ensure that the customers affected do not go to a competitor\n",
    "+ That being said, there are ways in which Machine Learning can be applied, saving money and resources"
   ]
  },
  {
   "cell_type": "code",
   "execution_count": 103,
   "id": "1614426c-36ad-4f49-a1e6-6046246fb3fe",
   "metadata": {},
   "outputs": [
    {
     "name": "stderr",
     "output_type": "stream",
     "text": [
      "[nltk_data] Downloading package stopwords to\n",
      "[nltk_data]     C:\\Users\\chaco\\AppData\\Roaming\\nltk_data...\n",
      "[nltk_data]   Package stopwords is already up-to-date!\n"
     ]
    }
   ],
   "source": [
    "# importing libraries for project\n",
    "\n",
    "import pandas as pd\n",
    "import numpy as np\n",
    "import re\n",
    "import nltk\n",
    "import matplotlib.pyplot as plt\n",
    "import seaborn as sns\n",
    "import string\n",
    "\n",
    "from nltk.corpus import stopwords\n",
    "from sklearn.feature_extraction.text import TfidfTransformer\n",
    "from sklearn.feature_extraction.text import TfidfVectorizer\n",
    "from sklearn.model_selection import train_test_split\n",
    "\n",
    "nltk.download('stopwords')\n",
    "\n",
    "# reading in the csv and storing it under df\n",
    "df = pd.read_csv('data/consumer_complaints.csv')"
   ]
  },
  {
   "cell_type": "code",
   "execution_count": 104,
   "id": "ad4ef7cd-5c89-4a60-be25-529158f2b634",
   "metadata": {},
   "outputs": [
    {
     "name": "stdout",
     "output_type": "stream",
     "text": [
      "(9999, 18)\n"
     ]
    },
    {
     "data": {
      "text/html": [
       "<div>\n",
       "<style scoped>\n",
       "    .dataframe tbody tr th:only-of-type {\n",
       "        vertical-align: middle;\n",
       "    }\n",
       "\n",
       "    .dataframe tbody tr th {\n",
       "        vertical-align: top;\n",
       "    }\n",
       "\n",
       "    .dataframe thead th {\n",
       "        text-align: right;\n",
       "    }\n",
       "</style>\n",
       "<table border=\"1\" class=\"dataframe\">\n",
       "  <thead>\n",
       "    <tr style=\"text-align: right;\">\n",
       "      <th></th>\n",
       "      <th>Date received</th>\n",
       "      <th>Product</th>\n",
       "      <th>Sub-product</th>\n",
       "      <th>Issue</th>\n",
       "      <th>Sub-issue</th>\n",
       "      <th>Consumer Complaint</th>\n",
       "      <th>Company Public Response</th>\n",
       "      <th>Company</th>\n",
       "      <th>State</th>\n",
       "      <th>ZIP code</th>\n",
       "      <th>Tags</th>\n",
       "      <th>Consumer consent provided?</th>\n",
       "      <th>Submitted via</th>\n",
       "      <th>Date Sent to Company</th>\n",
       "      <th>Company Response to Consumer</th>\n",
       "      <th>Timely response?</th>\n",
       "      <th>Consumer disputed?</th>\n",
       "      <th>Complaint ID</th>\n",
       "    </tr>\n",
       "  </thead>\n",
       "  <tbody>\n",
       "    <tr>\n",
       "      <th>0</th>\n",
       "      <td>3/12/14</td>\n",
       "      <td>Mortgage</td>\n",
       "      <td>Other mortgage</td>\n",
       "      <td>Loan modification,collection,foreclosure</td>\n",
       "      <td>NaN</td>\n",
       "      <td>NaN</td>\n",
       "      <td>NaN</td>\n",
       "      <td>M&amp;T BANK CORPORATION</td>\n",
       "      <td>MI</td>\n",
       "      <td>48382</td>\n",
       "      <td>NaN</td>\n",
       "      <td>NaN</td>\n",
       "      <td>Referral</td>\n",
       "      <td>3/17/14</td>\n",
       "      <td>Closed with explanation</td>\n",
       "      <td>Yes</td>\n",
       "      <td>No</td>\n",
       "      <td>759217</td>\n",
       "    </tr>\n",
       "    <tr>\n",
       "      <th>1</th>\n",
       "      <td>10/1/16</td>\n",
       "      <td>Credit reporting</td>\n",
       "      <td>NaN</td>\n",
       "      <td>Incorrect information on credit report</td>\n",
       "      <td>Account status</td>\n",
       "      <td>I have outdated information on my credit repor...</td>\n",
       "      <td>Company has responded to the consumer and the ...</td>\n",
       "      <td>TRANSUNION INTERMEDIATE HOLDINGS, INC.</td>\n",
       "      <td>AL</td>\n",
       "      <td>352XX</td>\n",
       "      <td>NaN</td>\n",
       "      <td>Consent provided</td>\n",
       "      <td>Web</td>\n",
       "      <td>10/5/16</td>\n",
       "      <td>Closed with explanation</td>\n",
       "      <td>Yes</td>\n",
       "      <td>No</td>\n",
       "      <td>2141773</td>\n",
       "    </tr>\n",
       "    <tr>\n",
       "      <th>2</th>\n",
       "      <td>10/17/16</td>\n",
       "      <td>Consumer Loan</td>\n",
       "      <td>Vehicle loan</td>\n",
       "      <td>Managing the loan or lease</td>\n",
       "      <td>NaN</td>\n",
       "      <td>I purchased a new car on XXXX XXXX. The car de...</td>\n",
       "      <td>NaN</td>\n",
       "      <td>CITIZENS FINANCIAL GROUP, INC.</td>\n",
       "      <td>PA</td>\n",
       "      <td>177XX</td>\n",
       "      <td>Older American</td>\n",
       "      <td>Consent provided</td>\n",
       "      <td>Web</td>\n",
       "      <td>10/20/16</td>\n",
       "      <td>Closed with explanation</td>\n",
       "      <td>Yes</td>\n",
       "      <td>No</td>\n",
       "      <td>2163100</td>\n",
       "    </tr>\n",
       "    <tr>\n",
       "      <th>3</th>\n",
       "      <td>6/8/14</td>\n",
       "      <td>Credit card</td>\n",
       "      <td>NaN</td>\n",
       "      <td>Bankruptcy</td>\n",
       "      <td>NaN</td>\n",
       "      <td>NaN</td>\n",
       "      <td>NaN</td>\n",
       "      <td>AMERICAN EXPRESS COMPANY</td>\n",
       "      <td>ID</td>\n",
       "      <td>83854</td>\n",
       "      <td>Older American</td>\n",
       "      <td>NaN</td>\n",
       "      <td>Web</td>\n",
       "      <td>6/10/14</td>\n",
       "      <td>Closed with explanation</td>\n",
       "      <td>Yes</td>\n",
       "      <td>Yes</td>\n",
       "      <td>885638</td>\n",
       "    </tr>\n",
       "    <tr>\n",
       "      <th>4</th>\n",
       "      <td>9/13/14</td>\n",
       "      <td>Debt collection</td>\n",
       "      <td>Credit card</td>\n",
       "      <td>Communication tactics</td>\n",
       "      <td>Frequent or repeated calls</td>\n",
       "      <td>NaN</td>\n",
       "      <td>NaN</td>\n",
       "      <td>CITIBANK, N.A.</td>\n",
       "      <td>VA</td>\n",
       "      <td>23233</td>\n",
       "      <td>NaN</td>\n",
       "      <td>NaN</td>\n",
       "      <td>Web</td>\n",
       "      <td>9/13/14</td>\n",
       "      <td>Closed with explanation</td>\n",
       "      <td>Yes</td>\n",
       "      <td>Yes</td>\n",
       "      <td>1027760</td>\n",
       "    </tr>\n",
       "  </tbody>\n",
       "</table>\n",
       "</div>"
      ],
      "text/plain": [
       "  Date received           Product     Sub-product  \\\n",
       "0       3/12/14          Mortgage  Other mortgage   \n",
       "1       10/1/16  Credit reporting             NaN   \n",
       "2      10/17/16     Consumer Loan    Vehicle loan   \n",
       "3        6/8/14       Credit card             NaN   \n",
       "4       9/13/14   Debt collection     Credit card   \n",
       "\n",
       "                                      Issue                   Sub-issue  \\\n",
       "0  Loan modification,collection,foreclosure                         NaN   \n",
       "1    Incorrect information on credit report              Account status   \n",
       "2                Managing the loan or lease                         NaN   \n",
       "3                                Bankruptcy                         NaN   \n",
       "4                     Communication tactics  Frequent or repeated calls   \n",
       "\n",
       "                                  Consumer Complaint  \\\n",
       "0                                                NaN   \n",
       "1  I have outdated information on my credit repor...   \n",
       "2  I purchased a new car on XXXX XXXX. The car de...   \n",
       "3                                                NaN   \n",
       "4                                                NaN   \n",
       "\n",
       "                             Company Public Response  \\\n",
       "0                                                NaN   \n",
       "1  Company has responded to the consumer and the ...   \n",
       "2                                                NaN   \n",
       "3                                                NaN   \n",
       "4                                                NaN   \n",
       "\n",
       "                                  Company State ZIP code            Tags  \\\n",
       "0                    M&T BANK CORPORATION    MI    48382             NaN   \n",
       "1  TRANSUNION INTERMEDIATE HOLDINGS, INC.    AL    352XX             NaN   \n",
       "2          CITIZENS FINANCIAL GROUP, INC.    PA    177XX  Older American   \n",
       "3                AMERICAN EXPRESS COMPANY    ID    83854  Older American   \n",
       "4                          CITIBANK, N.A.    VA    23233             NaN   \n",
       "\n",
       "  Consumer consent provided? Submitted via Date Sent to Company  \\\n",
       "0                        NaN      Referral              3/17/14   \n",
       "1           Consent provided           Web              10/5/16   \n",
       "2           Consent provided           Web             10/20/16   \n",
       "3                        NaN           Web              6/10/14   \n",
       "4                        NaN           Web              9/13/14   \n",
       "\n",
       "  Company Response to Consumer Timely response? Consumer disputed?  \\\n",
       "0      Closed with explanation              Yes                 No   \n",
       "1      Closed with explanation              Yes                 No   \n",
       "2      Closed with explanation              Yes                 No   \n",
       "3      Closed with explanation              Yes                Yes   \n",
       "4      Closed with explanation              Yes                Yes   \n",
       "\n",
       "   Complaint ID  \n",
       "0        759217  \n",
       "1       2141773  \n",
       "2       2163100  \n",
       "3        885638  \n",
       "4       1027760  "
      ]
     },
     "execution_count": 104,
     "metadata": {},
     "output_type": "execute_result"
    }
   ],
   "source": [
    "# print the total amount of rows and columns in this dataset\n",
    "print(df.shape)\n",
    "\n",
    "# taking a look a first five rows of the dataset\n",
    "df.head(5)"
   ]
  },
  {
   "cell_type": "code",
   "execution_count": 105,
   "id": "7097cd1c-c029-4a27-bad2-5181f5678e05",
   "metadata": {},
   "outputs": [
    {
     "data": {
      "text/html": [
       "<div>\n",
       "<style scoped>\n",
       "    .dataframe tbody tr th:only-of-type {\n",
       "        vertical-align: middle;\n",
       "    }\n",
       "\n",
       "    .dataframe tbody tr th {\n",
       "        vertical-align: top;\n",
       "    }\n",
       "\n",
       "    .dataframe thead th {\n",
       "        text-align: right;\n",
       "    }\n",
       "</style>\n",
       "<table border=\"1\" class=\"dataframe\">\n",
       "  <thead>\n",
       "    <tr style=\"text-align: right;\">\n",
       "      <th></th>\n",
       "      <th>Consumer Complaint</th>\n",
       "      <th>Product</th>\n",
       "    </tr>\n",
       "  </thead>\n",
       "  <tbody>\n",
       "    <tr>\n",
       "      <th>0</th>\n",
       "      <td>NaN</td>\n",
       "      <td>Mortgage</td>\n",
       "    </tr>\n",
       "    <tr>\n",
       "      <th>1</th>\n",
       "      <td>I have outdated information on my credit repor...</td>\n",
       "      <td>Credit reporting</td>\n",
       "    </tr>\n",
       "    <tr>\n",
       "      <th>2</th>\n",
       "      <td>I purchased a new car on XXXX XXXX. The car de...</td>\n",
       "      <td>Consumer Loan</td>\n",
       "    </tr>\n",
       "    <tr>\n",
       "      <th>3</th>\n",
       "      <td>NaN</td>\n",
       "      <td>Credit card</td>\n",
       "    </tr>\n",
       "    <tr>\n",
       "      <th>4</th>\n",
       "      <td>NaN</td>\n",
       "      <td>Debt collection</td>\n",
       "    </tr>\n",
       "  </tbody>\n",
       "</table>\n",
       "</div>"
      ],
      "text/plain": [
       "                                  Consumer Complaint           Product\n",
       "0                                                NaN          Mortgage\n",
       "1  I have outdated information on my credit repor...  Credit reporting\n",
       "2  I purchased a new car on XXXX XXXX. The car de...     Consumer Loan\n",
       "3                                                NaN       Credit card\n",
       "4                                                NaN   Debt collection"
      ]
     },
     "execution_count": 105,
     "metadata": {},
     "output_type": "execute_result"
    }
   ],
   "source": [
    "# creating a new table called consumer_complaints as these are the two variables used in this project\n",
    "consumer_complaints = df[['Consumer Complaint', 'Product']]\n",
    "\n",
    "# taking a look at the first five rows of the dcoc\n",
    "consumer_complaints.head(5)"
   ]
  },
  {
   "cell_type": "code",
   "execution_count": 106,
   "id": "0f6d7c13-1fde-4554-b842-ee7561cb832d",
   "metadata": {},
   "outputs": [
    {
     "data": {
      "text/plain": [
       "Consumer Complaint    7885\n",
       "Product                  0\n",
       "dtype: int64"
      ]
     },
     "execution_count": 106,
     "metadata": {},
     "output_type": "execute_result"
    }
   ],
   "source": [
    "# looking any null values in the dataset\n",
    "\n",
    "consumer_complaints.isnull().sum()"
   ]
  },
  {
   "cell_type": "code",
   "execution_count": 118,
   "id": "1bd9d4a8-7902-4ca0-8ab7-0203c7d2b177",
   "metadata": {},
   "outputs": [
    {
     "name": "stdout",
     "output_type": "stream",
     "text": [
      "The percentage of null values is 0.0%. What does this mean? 1 out of every 5 reviews will contain content from the customer as to why they are complaining\n"
     ]
    }
   ],
   "source": [
    "# \n",
    "\n",
    "null = len(consumer_complaints[consumer_complaints['Consumer Complaint'].isnull()]['Consumer Complaint'])\n",
    "total = len(df)\n",
    "\n",
    "print(f'The percentage of null values is {round(null/total * 100,0)}%. What does this mean? 1 out of every 5 reviews will contain content from the customer as to why they are complaining')"
   ]
  },
  {
   "cell_type": "markdown",
   "id": "dd2743c3-0202-45fd-a823-ba453b47b968",
   "metadata": {},
   "source": [
    "#### What to do with these null values?\n",
    "\n",
    "+ Since this project is solely focused on the complaint by the customer, null values are of no use\n",
    "+ With that being said, 79% of complaints are null\n",
    "+ Or essentially, 1 in 5 complaints will contain customer content as to why they did not enjoy the product"
   ]
  },
  {
   "cell_type": "code",
   "execution_count": 108,
   "id": "eb45412b-10df-451f-9be4-81988794dd77",
   "metadata": {},
   "outputs": [],
   "source": [
    "# dropping all null values\n",
    "\n",
    "consumer_complaints = consumer_complaints.dropna()"
   ]
  },
  {
   "cell_type": "code",
   "execution_count": 109,
   "id": "a3db068c-c7cd-48d2-961a-721b37e7ebff",
   "metadata": {},
   "outputs": [
    {
     "data": {
      "text/plain": [
       "Consumer Complaint    0\n",
       "Product               0\n",
       "dtype: int64"
      ]
     },
     "execution_count": 109,
     "metadata": {},
     "output_type": "execute_result"
    }
   ],
   "source": [
    "# ensuring there are no null values in the dataset\n",
    "\n",
    "consumer_complaints.isnull().sum()"
   ]
  },
  {
   "cell_type": "code",
   "execution_count": 110,
   "id": "79eecd63-1392-4b17-a145-03307d835bdf",
   "metadata": {},
   "outputs": [],
   "source": [
    "# creating a new table grouped by the product an counting the amount of complaints per product\n",
    "product_complaints = consumer_complaints.groupby('Product').count()['Consumer Complaint'].reset_index().sort_values(by = 'Consumer Complaint', ascending = False)\n",
    "\n",
    "\n",
    "# storing both variables in different lists, for data visualization purposes\n",
    "x = product_complaints['Consumer Complaint']\n",
    "y = product_complaints['Product']"
   ]
  },
  {
   "cell_type": "code",
   "execution_count": 111,
   "id": "c2330f80-fb6b-4906-ac5b-27077849bbf9",
   "metadata": {},
   "outputs": [
    {
     "data": {
      "image/png": "[encoded data removed]",
      "text/plain": [
       "<Figure size 432x288 with 1 Axes>"
      ]
     },
     "metadata": {
      "needs_background": "light"
     },
     "output_type": "display_data"
    }
   ],
   "source": [
    "# Using seaborn to create a bargraph \n",
    "\n",
    "sns.barplot(x = x, y = y, palette = sns.color_palette('pastel') )\n",
    "plt.show();"
   ]
  },
  {
   "cell_type": "code",
   "execution_count": 112,
   "id": "9b667871-d37f-4ad4-a598-77d26d2c7429",
   "metadata": {},
   "outputs": [],
   "source": [
    "# creating a function to clean the data\n",
    "\n",
    "def preprocess(text):\n",
    "    text = text.lower() # lowering all text\n",
    "    text = text.strip()  # removing whitespace\n",
    "    text = re.compile('<.*?>').sub('', text) \n",
    "    text = re.compile('[%s]' % re.escape(string.punctuation)).sub(' ', text)  \n",
    "    text = re.sub(r'\\W', ' ', str(text)) # removing special characters\n",
    "    text = re.sub(r'\\s+[a-zA-Z]\\s+', ' ', text) # remove single characters \n",
    "    text = re.sub(r'\\^[a-zA-Z]\\s+', ' ', text ) # remove single characters from the beginning\n",
    "    text = re.sub('\\s+', ' ', text)  \n",
    "    text = re.sub(r'(#[\\d\\w\\.]+)', '', text) # removing hashtags\n",
    "    text = re.sub(r'(@[\\d\\w\\.]+)', '', text) # removing @ handles \n",
    "    text = re.sub(r'\\[[0-9]*\\]',' ',text) # removing numbers\n",
    "    text = re.sub(r'[^\\w\\s]', '', str(text).lower().strip())\n",
    "    text = re.sub(r'\\d',' ',text) \n",
    "    text = re.sub(r'\\s+',' ',text) \n",
    "    return text"
   ]
  },
  {
   "cell_type": "code",
   "execution_count": 113,
   "id": "1a8f1440-4f9c-46c2-8261-c1df57a95f42",
   "metadata": {},
   "outputs": [],
   "source": [
    "# creating a new column with the clean text\n",
    "\n",
    "consumer_complaints['complaint_clean'] = consumer_complaints['Consumer Complaint'].apply(lambda x: preprocess(x))"
   ]
  },
  {
   "cell_type": "code",
   "execution_count": 114,
   "id": "54b8d763-047d-4acb-a5f8-30f904ea8df7",
   "metadata": {},
   "outputs": [
    {
     "data": {
      "text/html": [
       "<div>\n",
       "<style scoped>\n",
       "    .dataframe tbody tr th:only-of-type {\n",
       "        vertical-align: middle;\n",
       "    }\n",
       "\n",
       "    .dataframe tbody tr th {\n",
       "        vertical-align: top;\n",
       "    }\n",
       "\n",
       "    .dataframe thead th {\n",
       "        text-align: right;\n",
       "    }\n",
       "</style>\n",
       "<table border=\"1\" class=\"dataframe\">\n",
       "  <thead>\n",
       "    <tr style=\"text-align: right;\">\n",
       "      <th></th>\n",
       "      <th>Consumer Complaint</th>\n",
       "      <th>Product</th>\n",
       "      <th>complaint_clean</th>\n",
       "    </tr>\n",
       "  </thead>\n",
       "  <tbody>\n",
       "    <tr>\n",
       "      <th>1</th>\n",
       "      <td>I have outdated information on my credit repor...</td>\n",
       "      <td>Credit reporting</td>\n",
       "      <td>i have outdated information on my credit repor...</td>\n",
       "    </tr>\n",
       "    <tr>\n",
       "      <th>2</th>\n",
       "      <td>I purchased a new car on XXXX XXXX. The car de...</td>\n",
       "      <td>Consumer Loan</td>\n",
       "      <td>i purchased new car on xxxx xxxx the car deale...</td>\n",
       "    </tr>\n",
       "    <tr>\n",
       "      <th>7</th>\n",
       "      <td>An account on my credit report has a mistaken ...</td>\n",
       "      <td>Credit reporting</td>\n",
       "      <td>an account on my credit report has mistaken da...</td>\n",
       "    </tr>\n",
       "    <tr>\n",
       "      <th>12</th>\n",
       "      <td>This company refuses to provide me verificatio...</td>\n",
       "      <td>Debt collection</td>\n",
       "      <td>this company refuses to provide me verificatio...</td>\n",
       "    </tr>\n",
       "    <tr>\n",
       "      <th>16</th>\n",
       "      <td>This complaint is in regards to Square Two Fin...</td>\n",
       "      <td>Debt collection</td>\n",
       "      <td>this complaint is in regards to square two fin...</td>\n",
       "    </tr>\n",
       "    <tr>\n",
       "      <th>...</th>\n",
       "      <td>...</td>\n",
       "      <td>...</td>\n",
       "      <td>...</td>\n",
       "    </tr>\n",
       "    <tr>\n",
       "      <th>9987</th>\n",
       "      <td>on XX/XX/2016 I checked my credit report and a...</td>\n",
       "      <td>Credit reporting</td>\n",
       "      <td>on xx xx checked my credit report and all my i...</td>\n",
       "    </tr>\n",
       "    <tr>\n",
       "      <th>9988</th>\n",
       "      <td>This complaint is in regards to unauthorized f...</td>\n",
       "      <td>Mortgage</td>\n",
       "      <td>this complaint is in regards to unauthorized f...</td>\n",
       "    </tr>\n",
       "    <tr>\n",
       "      <th>9990</th>\n",
       "      <td>In XXXX 2015, I received a notice from a compa...</td>\n",
       "      <td>Debt collection</td>\n",
       "      <td>in xxxx received notice from company named xxx...</td>\n",
       "    </tr>\n",
       "    <tr>\n",
       "      <th>9994</th>\n",
       "      <td>Freedom Mortgage has paid my XX/XX/2014 XXXX X...</td>\n",
       "      <td>Mortgage</td>\n",
       "      <td>freedom mortgage has paid my xx xx xxxx xxxx p...</td>\n",
       "    </tr>\n",
       "    <tr>\n",
       "      <th>9998</th>\n",
       "      <td>I started the process of a short sale on my ho...</td>\n",
       "      <td>Mortgage</td>\n",
       "      <td>i started the process of short sale on my home...</td>\n",
       "    </tr>\n",
       "  </tbody>\n",
       "</table>\n",
       "<p>2114 rows × 3 columns</p>\n",
       "</div>"
      ],
      "text/plain": [
       "                                     Consumer Complaint           Product  \\\n",
       "1     I have outdated information on my credit repor...  Credit reporting   \n",
       "2     I purchased a new car on XXXX XXXX. The car de...     Consumer Loan   \n",
       "7     An account on my credit report has a mistaken ...  Credit reporting   \n",
       "12    This company refuses to provide me verificatio...   Debt collection   \n",
       "16    This complaint is in regards to Square Two Fin...   Debt collection   \n",
       "...                                                 ...               ...   \n",
       "9987  on XX/XX/2016 I checked my credit report and a...  Credit reporting   \n",
       "9988  This complaint is in regards to unauthorized f...          Mortgage   \n",
       "9990  In XXXX 2015, I received a notice from a compa...   Debt collection   \n",
       "9994  Freedom Mortgage has paid my XX/XX/2014 XXXX X...          Mortgage   \n",
       "9998  I started the process of a short sale on my ho...          Mortgage   \n",
       "\n",
       "                                        complaint_clean  \n",
       "1     i have outdated information on my credit repor...  \n",
       "2     i purchased new car on xxxx xxxx the car deale...  \n",
       "7     an account on my credit report has mistaken da...  \n",
       "12    this company refuses to provide me verificatio...  \n",
       "16    this complaint is in regards to square two fin...  \n",
       "...                                                 ...  \n",
       "9987  on xx xx checked my credit report and all my i...  \n",
       "9988  this complaint is in regards to unauthorized f...  \n",
       "9990  in xxxx received notice from company named xxx...  \n",
       "9994  freedom mortgage has paid my xx xx xxxx xxxx p...  \n",
       "9998  i started the process of short sale on my home...  \n",
       "\n",
       "[2114 rows x 3 columns]"
      ]
     },
     "execution_count": 114,
     "metadata": {},
     "output_type": "execute_result"
    }
   ],
   "source": [
    "# taking a look at the data to ensure the preprocess function worked accordingly\n",
    "\n",
    "consumer_complaints.head(5)"
   ]
  },
  {
   "cell_type": "code",
   "execution_count": 115,
   "id": "dbfca63e-b690-45ef-af65-ee04002a0212",
   "metadata": {},
   "outputs": [],
   "source": [
    "# storing the english stop words under stop_words\n",
    "# this will be added to the model syntax\n",
    "\n",
    "stop_words = set(stopwords.words('english'))\n",
    "\n",
    "X = consumer_complaints['complaint_clean']\n",
    "y = consumer_complaints['Product']\n",
    "\n",
    "tfidf = TfidfVectorizer(max_features = 3000, min_df = 10, max_df = 0.7, stop_words = stop_words)\n",
    "\n",
    "X = tfidf.fit_transform(X)"
   ]
  },
  {
   "cell_type": "code",
   "execution_count": 116,
   "id": "a0b9ec90-ace0-4497-be1e-0bdcefa0ab43",
   "metadata": {},
   "outputs": [],
   "source": [
    "from sklearn.model_selection import train_test_split\n",
    "\n",
    "X_train, X_test, y_train, y_test = train_test_split(X, y, test_size=0.2, random_state=42)"
   ]
  },
  {
   "cell_type": "code",
   "execution_count": 117,
   "id": "108fb198-2404-43e5-9a21-0b34aa4cb9bd",
   "metadata": {},
   "outputs": [
    {
     "name": "stdout",
     "output_type": "stream",
     "text": [
      "                                                                              precision    recall  f1-score   support\n",
      "\n",
      "                                                     Bank account or service       0.76      0.65      0.70        34\n",
      "                                                               Consumer Loan       0.75      0.12      0.21        25\n",
      "                                                                 Credit card       0.71      0.80      0.76        46\n",
      "                                                            Credit reporting       0.74      0.82      0.78        77\n",
      "Credit reporting, credit repair services, or other personal consumer reports       0.00      0.00      0.00         3\n",
      "                                                             Debt collection       0.70      0.86      0.77       101\n",
      "                          Money transfer, virtual currency, or money service       0.00      0.00      0.00         1\n",
      "                                                             Money transfers       0.00      0.00      0.00         7\n",
      "                                                                    Mortgage       0.79      0.95      0.86        91\n",
      "                                                                 Payday loan       0.00      0.00      0.00         5\n",
      "                                                                Prepaid card       0.00      0.00      0.00         1\n",
      "                                                                Student loan       1.00      0.62      0.77        32\n",
      "\n",
      "                                                                    accuracy                           0.75       423\n",
      "                                                                   macro avg       0.45      0.40      0.40       423\n",
      "                                                                weighted avg       0.73      0.75      0.72       423\n",
      "\n",
      "0.75177304964539\n"
     ]
    },
    {
     "name": "stderr",
     "output_type": "stream",
     "text": [
      "C:\\Users\\chaco\\anaconda3\\lib\\site-packages\\sklearn\\metrics\\_classification.py:1245: UndefinedMetricWarning: Precision and F-score are ill-defined and being set to 0.0 in labels with no predicted samples. Use `zero_division` parameter to control this behavior.\n",
      "  _warn_prf(average, modifier, msg_start, len(result))\n",
      "C:\\Users\\chaco\\anaconda3\\lib\\site-packages\\sklearn\\metrics\\_classification.py:1245: UndefinedMetricWarning: Precision and F-score are ill-defined and being set to 0.0 in labels with no predicted samples. Use `zero_division` parameter to control this behavior.\n",
      "  _warn_prf(average, modifier, msg_start, len(result))\n",
      "C:\\Users\\chaco\\anaconda3\\lib\\site-packages\\sklearn\\metrics\\_classification.py:1245: UndefinedMetricWarning: Precision and F-score are ill-defined and being set to 0.0 in labels with no predicted samples. Use `zero_division` parameter to control this behavior.\n",
      "  _warn_prf(average, modifier, msg_start, len(result))\n"
     ]
    }
   ],
   "source": [
    "from sklearn.ensemble import RandomForestClassifier\n",
    "\n",
    "classifier = RandomForestClassifier(n_estimators = 500, random_state = 42)\n",
    "classifier.fit(X_train, y_train)\n",
    "\n",
    "y_pred = classifier.predict(X_test)\n",
    "\n",
    "from sklearn.metrics import classification_report, confusion_matrix, accuracy_score\n",
    "\n",
    "print(classification_report(y_test,y_pred))\n",
    "print(accuracy_score(y_test, y_pred))"
   ]
  },
  {
   "cell_type": "code",
   "execution_count": null,
   "id": "735f4177-e6a8-4f88-9045-86698ca63b90",
   "metadata": {},
   "outputs": [],
   "source": []
  },
  {
   "cell_type": "code",
   "execution_count": null,
   "id": "629d706f-6e4f-40be-9b53-2aba23daa8e2",
   "metadata": {},
   "outputs": [],
   "source": []
  },
  {
   "cell_type": "code",
   "execution_count": null,
   "id": "254c5ce8-3a1a-40db-8e17-229a853d66f7",
   "metadata": {},
   "outputs": [],
   "source": []
  },
  {
   "cell_type": "code",
   "execution_count": null,
   "id": "a1336a33-7c74-428a-83ac-ca7405c4ac92",
   "metadata": {},
   "outputs": [],
   "source": []
  }
 ],
 "metadata": {
  "kernelspec": {
   "display_name": "Python 3",
   "language": "python",
   "name": "python3"
  },
  "language_info": {
   "codemirror_mode": {
    "name": "ipython",
    "version": 3
   },
   "file_extension": ".py",
   "mimetype": "text/x-python",
   "name": "python",
   "nbconvert_exporter": "python",
   "pygments_lexer": "ipython3",
   "version": "3.8.8"
  }
 },
 "nbformat": 4,
 "nbformat_minor": 5
}
